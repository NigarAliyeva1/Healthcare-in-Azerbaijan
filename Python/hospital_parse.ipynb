{
 "cells": [
  {
   "cell_type": "code",
   "execution_count": null,
   "metadata": {},
   "outputs": [],
   "source": [
    "import pandas as pd # type: ignore\n",
    "import re\n",
    "hospital_df = pd.read_csv('raw_hospital_dataset.csv', encoding='ISO-8859-1')\n",
    "\n",
    "print(\"First 5 rows of the dataset:\")\n",
    "hospital_df.head(5)\n",
    "\n"
   ]
  },
  {
   "cell_type": "code",
   "execution_count": null,
   "metadata": {},
   "outputs": [],
   "source": [
    "hospital_df.columns\n"
   ]
  },
  {
   "cell_type": "code",
   "execution_count": null,
   "metadata": {},
   "outputs": [],
   "source": [
    "hospital_df.drop_duplicates(inplace=True)\n",
    "hospital_df\n"
   ]
  },
  {
   "cell_type": "code",
   "execution_count": null,
   "metadata": {},
   "outputs": [],
   "source": [
    "hospital_df.dropna(inplace=True)\n",
    "hospital_df"
   ]
  },
  {
   "cell_type": "code",
   "execution_count": null,
   "metadata": {},
   "outputs": [],
   "source": [
    "print(\"Information about the dataframe:\")\n",
    "hospital_df.info()\n",
    "\n"
   ]
  },
  {
   "cell_type": "code",
   "execution_count": null,
   "metadata": {},
   "outputs": [],
   "source": [
    "\n",
    "print(\"Number of missing values in each column:\")\n",
    "hospital_df.isnull().sum()\n",
    "\n"
   ]
  },
  {
   "cell_type": "code",
   "execution_count": null,
   "metadata": {},
   "outputs": [],
   "source": [
    "print(\"Unique values in each column:\")\n",
    "for column in hospital_df.columns:\n",
    "    print(f\"{column}: {hospital_df[column].nunique()} unique values\")\n"
   ]
  },
  {
   "cell_type": "code",
   "execution_count": null,
   "metadata": {},
   "outputs": [],
   "source": [
    "\n",
    "def format_phone_number(phone_number):\n",
    "    clean_number = phone_number.replace(' ', '')\n",
    "    \n",
    "    if re.match(r'^0(99|55|77|70|50|51|12)', clean_number):\n",
    "        clean_number = '+994' + clean_number[1:]\n",
    "    \n",
    "\n",
    "    if len(clean_number) != 13:\n",
    "        clean_number = clean_number.ljust(13, '0')\n",
    "\n",
    "    formatted_number = f\"{clean_number[:4]} {clean_number[4:6]} {clean_number[6:9]} {clean_number[9:11]} {clean_number[11:13]}\"\n",
    "    \n",
    "\n",
    "    if len(formatted_number) < 17:\n",
    "        formatted_number = formatted_number.ljust(17, '0')\n",
    "    \n",
    "    return formatted_number\n",
    "\n",
    "hospital_df['PhoneNumber'] = hospital_df['PhoneNumber'].apply(format_phone_number)\n",
    "\n",
    "hospital_df[['PhoneNumber']]\n"
   ]
  },
  {
   "cell_type": "code",
   "execution_count": 34,
   "metadata": {},
   "outputs": [],
   "source": [
    "hospital_df['Ratings'] = hospital_df['Ratings'].round()"
   ]
  },
  {
   "cell_type": "code",
   "execution_count": 35,
   "metadata": {},
   "outputs": [],
   "source": [
    "hospital_df['EmergencyServices'] = hospital_df['EmergencyServices'].str.capitalize()"
   ]
  },
  {
   "cell_type": "code",
   "execution_count": null,
   "metadata": {},
   "outputs": [],
   "source": [
    "hospital_df.to_csv('hospital_dataset.csv', index=False)"
   ]
  }
 ],
 "metadata": {
  "kernelspec": {
   "display_name": "base",
   "language": "python",
   "name": "python3"
  },
  "language_info": {
   "codemirror_mode": {
    "name": "ipython",
    "version": 3
   },
   "file_extension": ".py",
   "mimetype": "text/x-python",
   "name": "python",
   "nbconvert_exporter": "python",
   "pygments_lexer": "ipython3",
   "version": "3.11.7"
  }
 },
 "nbformat": 4,
 "nbformat_minor": 2
}
